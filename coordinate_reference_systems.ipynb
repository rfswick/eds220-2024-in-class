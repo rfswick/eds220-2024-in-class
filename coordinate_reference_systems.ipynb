{
 "cells": [
  {
   "cell_type": "markdown",
   "id": "9fda85db-a41b-4097-928a-877ec4d8e96b",
   "metadata": {},
   "source": [
    "# Coordinate Reference Systems\n",
    "\n",
    "In this section we review what is a coordinate reference system (CRS). The materials here are meant to act as a refresher of the lesson on coordinate reference systems in week 2 of the EDS 223 - Geospatial Analysis & Remote Sensing MEDS course."
   ]
  },
  {
   "cell_type": "markdown",
   "id": "9586aeb5-212d-46d1-9fa2-790a84c92f87",
   "metadata": {},
   "source": [
    "## How to Create a CRS\n",
    "\n",
    "Since the Earth does not have lines and numbers etched on it, us humans need to create a system to locate places on its surface. A way to solve this is to create a **coordinate reference system (CRS)**. A CRS is, at its core, a way to represent places on the Earth as coordinates.\n",
    "\n",
    "To understand what are the components of a CRS it can be useful to think of the process we would undergo to match places on the Earth to coordinates that represent them.\n",
    "\n",
    "## Step 1. Pick an Ellipsoid\n",
    "\n",
    "Think of the Earth. Our planet is not a perfect sphere. Besides its rugged surface with high mountains and deep ocean trenches, the shape of the Earth is not round. Due to the Earth’s rotation, the planet is slightly wider at the Equator. Thus, a sphere is not the best way to model the shape of the Earth. Instead, we use an **ellipsoid**. Think of an ellipsoid as a sphere that has been flattened a bit, thus making it wider across one axis. This is the first step for creating a CRS: picking an ellipsoid, a.k.a picking a shape for the Earth. The ellipsoid used to represent the Earth’s shape has changed across time and it may also change depending on the application.\n",
    "\n",
    "## Step 2. Align the Ellipsoid with Earth's Locations to Obtain a Datum\n",
    "\n",
    "The ellipsoid is an abstract mathematical object on which we can locate points on it by using angles. The coordinate system on the ellipsoid is (angles from x, angles from y).\n",
    "\n",
    "The next step to create a CRS is thus to make a decision on how to align the ellipsoid so that it’s surface corresponds to actual places on the Earth. We could think, for example, of:\n",
    "\n",
    "- how to place the ellipsoid’s center relative to Earth’s mass center (is it the same or is it off?) or\n",
    "\n",
    "- how to align the ellipsoid’s axes with the Earth (which meridian will be our prime meridian?).\n",
    "\n",
    "Generally speaking, a **geodetic datum**, or just a **datum**, is how we are aligning our abstract ellipsoid to match the Earth’s surface.\n",
    "\n",
    "#### Datums may cahnge across time and applications\n",
    "Geographers and cartographers have created and used many datums across time and applications. Sometimes datum refers both to a choice of ellipsoid and how to align it to the Earth. More importantly, **different datums are used to increase the accuracy of representing different regions of Earth**. At the GIS wiki you can see a list of names of different datums optimized for different regions.\n",
    "\n",
    "## Step 3. Obtain a Geographic CRS with lat/long coordinates for all Earth\n",
    "At this point, we have successfully made a correspondence between the Earth’s surface of and our ellipsoid. This means we can now use the latitude,longitude (lat/lon) coordinates of the ellipsoid to locate any point on the Earth’s surface. This is called a **geographic CRS**. Geographic coordinate reference systems use degrees of latitude and longitude to locate points on the Earth, still thinking of it as a 3D object.\n",
    "\n",
    "## Step 4. Select a Projection to Flatten a Portion of your Ellipsoid and Make a Map\n",
    "\n",
    "A **map** is a flat (2-dimensional) representation of a region of the Earth. In a geographic CRS we use a 3-dimensional model of the Earth (the ellipsoid) to locate places on it. To transform our 3-dimensional ellipsoid to make a 2-dimensional representation we need to use a projection. A **projection** is a method to convert between angular coordinates (i.e. lat/lon coordinates in 3D) and planar coordinates (i.e. x,y coordinates in 2D).\n",
    "\n",
    "#### Many Projections\n",
    "There are many ways to project an ellipsoid into a 2-dimensional region. However, **no matter what projection we use, the area, distances, or angles of the actual regions on Earth will be distorted when we project**. Ultimately, the choice of projection relies on whether we want to optimze calculations involving area, angle, or distance measurements, as well as aesthetics when creating a map.\n",
    "\n",
    "## Step 5. Obtain a Projected CRS with x, y Coordinates for a Specific Region\n",
    "\n",
    "When we project a region of the ellipsoid to represent a region of Earth on the plane we obtain a new set of planar coordinates, thus creating a **projected CRS**. A projected CRS must also include a **unit of measure** for its axes. These new coordinates are usually called **eastings**, when referring to the eastward-measured distance (x-coordinate), and **northings**, when referring to the northward-measured distance (y-coordinate)."
   ]
  },
  {
   "cell_type": "code",
   "execution_count": null,
   "id": "6ad91cb4-db6e-4572-93fa-c44f9e94e625",
   "metadata": {},
   "outputs": [],
   "source": []
  }
 ],
 "metadata": {
  "kernelspec": {
   "display_name": "Anaconda 3 (Base)",
   "language": "python",
   "name": "base"
  },
  "language_info": {
   "codemirror_mode": {
    "name": "ipython",
    "version": 3
   },
   "file_extension": ".py",
   "mimetype": "text/x-python",
   "name": "python",
   "nbconvert_exporter": "python",
   "pygments_lexer": "ipython3",
   "version": "3.9.13"
  }
 },
 "nbformat": 4,
 "nbformat_minor": 5
}

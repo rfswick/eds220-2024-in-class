{
 "cells": [
  {
   "cell_type": "markdown",
   "id": "43ffa963-5f0a-45ce-bb3c-1051ee4daea9",
   "metadata": {},
   "source": [
    "# Vector Data Formats\n",
    "\n",
    "Vector data is one of the two primary types of geospatial data (the other one being raster data). In this section we will review what vector data is and go over some common data formats for it.\n",
    "\n",
    "## Points, lines, and polygons\n",
    "\n",
    "** Vector data** represents specific features on the Earth’s surface. There are three core types of vector data:\n",
    "\n",
    "- Points: each point has a single x,y location. Examples of data that can be represented as point vector data are sampling locations or animal sightings.\n",
    "\n",
    "- Lines: a line is composed of at least two points that are connected. Roads and streams are commonly depicted as line vector data.\n",
    "\n",
    "- Polygons: polygons are sets of three or more vertices that are connected and form a closed region. Political boundaries (outlines of countries, states, cities, etc) are examples of polygon vector data.\n",
    "\n",
    "Each item in the vector data is usually referred to as a **feature**. So each point would be a feature, each polygon is a feature, etc.\n",
    "\n",
    "Besides points, lines, and polygons, we can also encounter an additional type of vector data:\n",
    "\n",
    "- Multipolygons: represent features made up of several polygons. Each polygon can be a separate, disconnected area, but together they form one feature. For example, a country with both mainland and island territories is often represented as a multi-polygon. Multi-polygons are useful for geographic entities that consist of multiple regions but need to be treated as a single unit in analysis.\n",
    "\n",
    "In addition to the geospatial information stored, vector data can include **attributes** that describe each feature. For example, a vector dataset where each feature is a polygon representing the boundary of a state could have as attributes the population and area of the state.\n",
    "\n",
    "## Shapefiles\n",
    "\n",
    "One of the most popular formats to store vector data is the **shapefile** data format. The `shapefile` format is developed and maintained by the Environmental systems research Institute (Esri).\n",
    "\n",
    "So far we have been working with data that comes stored in a single file, like a CSV or `.txt` file for tabular data. A shapefile is actually a collection of files that interact together to create a single data file. All the files that make up a shapefile need to have the same name (with different extensions) and be in the same directory. For our shapefiles to work we need at least these three files:\n",
    "\n",
    "- `.shp`: shape format, this file has the geometries for all features.\n",
    "- `.shx`: shape index format, this file indexes the features\n",
    "- `.dbf`: attribute format, this file stores the attributes for features as a table\n",
    "\n",
    "Sometimes shapefiles will have additional files, including:\n",
    "\n",
    "- `.prj`: a file containing information about the projection and coordinate reference system\n",
    "- `.sbn` and `.sbx`: files that contain a spatial index of the features\n",
    "- `.shp.xml`: geospatial metadata in XML format.\n",
    "\n",
    "Check the Wikipedia page about shapefiles to see a more extensive list of files associated to shapefiles.\n",
    "\n",
    "#### A single shapefile can only have one vector type\n",
    "\n",
    "Each shapefile can only hold one type of vector data. You cannot have, for example, lines and points in the same file."
   ]
  },
  {
   "cell_type": "code",
   "execution_count": null,
   "id": "6adf7f97-ec18-4021-8d05-b0c07b6afd05",
   "metadata": {},
   "outputs": [],
   "source": []
  }
 ],
 "metadata": {
  "kernelspec": {
   "display_name": "Anaconda 3 (Base)",
   "language": "python",
   "name": "base"
  },
  "language_info": {
   "codemirror_mode": {
    "name": "ipython",
    "version": 3
   },
   "file_extension": ".py",
   "mimetype": "text/x-python",
   "name": "python",
   "nbconvert_exporter": "python",
   "pygments_lexer": "ipython3",
   "version": "3.9.13"
  }
 },
 "nbformat": 4,
 "nbformat_minor": 5
}

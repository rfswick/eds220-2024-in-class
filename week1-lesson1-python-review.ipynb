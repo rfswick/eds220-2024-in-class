{
 "cells": [
  {
   "cell_type": "markdown",
   "id": "11699531-5795-4867-859e-6e4bfc8ee801",
   "metadata": {},
   "source": [
    "# Python Review\n",
    "\n",
    "Short review about some core concepts in Python exemplified by objects in the Numpy library.\n",
    "\n",
    "Goals:\n",
    "- recall basic Python vocabulary\n",
    "- practice markdown syntax\n",
    "\n",
    "## Libraries and Packages\n",
    "\n",
    "**library:** is a collection of code that we can use to perform specific tasks in our programs. It can be a single file or multiple files.\n",
    "\n",
    "**NumPy:**\n",
    "\n",
    "- core library for numerical computation in Python\n",
    "- many libraries use NumPy arrays as their building blicks\n",
    "- computations on NumPy objects are optimized for speed and memory usage\n",
    "\n",
    "Let's import NumPy with its **standard abbreviation** `np`:"
   ]
  },
  {
   "cell_type": "code",
   "execution_count": 1,
   "id": "86d4c39c-468a-486c-b7f9-b963c86b8d1c",
   "metadata": {
    "tags": []
   },
   "outputs": [],
   "source": [
    "import numpy as np"
   ]
  },
  {
   "cell_type": "markdown",
   "id": "5a73d3ad-0465-465c-b5bd-d2e8fff8aee6",
   "metadata": {},
   "source": [
    "(esc + press M twice -> convert code cell to markdown cell)\n",
    "\n",
    "## Variables\n",
    "\n",
    "**variable:** a name we assign to a particular object in Python\n",
    "\n",
    "Example:"
   ]
  },
  {
   "cell_type": "code",
   "execution_count": 2,
   "id": "16ac8a39-f11f-4ace-822c-110ae36c1dd1",
   "metadata": {
    "tags": []
   },
   "outputs": [],
   "source": [
    "# Assign a small array to variable a \n",
    "a = np.array( [ [1,1,2], [3,5,8] ] )"
   ]
  },
  {
   "cell_type": "markdown",
   "id": "af875324-f730-47dd-8df4-ee93bd70edb6",
   "metadata": {},
   "source": [
    "To view a variable's value from our Jupyter notebook:"
   ]
  },
  {
   "cell_type": "code",
   "execution_count": 3,
   "id": "73d39349-f14b-44fb-ad53-dd0b0b8fa2b4",
   "metadata": {
    "tags": []
   },
   "outputs": [
    {
     "data": {
      "text/plain": [
       "array([[1, 1, 2],\n",
       "       [3, 5, 8]])"
      ]
     },
     "execution_count": 3,
     "metadata": {},
     "output_type": "execute_result"
    }
   ],
   "source": [
    "# Run cell with variable name to show value\n",
    "a"
   ]
  },
  {
   "cell_type": "code",
   "execution_count": 4,
   "id": "ca58830f-02dd-4072-ae9c-6bdc40bda172",
   "metadata": {
    "tags": []
   },
   "outputs": [
    {
     "name": "stdout",
     "output_type": "stream",
     "text": [
      "[[1 1 2]\n",
      " [3 5 8]]\n"
     ]
    }
   ],
   "source": [
    "# Use `print` function to print the value\n",
    "print(a)"
   ]
  },
  {
   "cell_type": "markdown",
   "id": "f96524b2-ddfa-4cd3-a452-b68fe2d322d7",
   "metadata": {},
   "source": [
    "## Convention: Use `snake_case` for naming variables.\n",
    "\n",
    "This is the convention we will use in this course going forward.\n",
    "\n",
    "Why? `my-variable` or `MyVariable` or `myVariable` are all valid, but,\n",
    "\n",
    "PEP 8 - Style Guide for Python Code recommends lower_snake_case.\n",
    "\n",
    "**Remember that variable names should be both descriptive and consice!**\n",
    "\n",
    "## Objects\n",
    "\n",
    "**object:** (informally speaking) is a bundle of *properties* and *actions* about something specific.\n",
    "\n",
    "Example:\n",
    "\n",
    "Object: data frame\n",
    "Properties: number of rows, names of columns, and date created\n",
    "Actions: selecting a specific row or adding a new column\n",
    "\n",
    "A varibale is the name we give a specific object, and the same object can be referenced by different variables.\n",
    "\n",
    "In practive, we can often use the word variable and object interchangeably.\n",
    "\n",
    "## Types\n",
    "\n",
    "Every object in Python has a **type**, the type tells us what kind of object we have.\n",
    "We can also call the type of an object, the **class** of an object. So class and object both mean what kind of object we have."
   ]
  },
  {
   "cell_type": "code",
   "execution_count": 5,
   "id": "b44e9c16-419a-492e-96be-5815fd33c9de",
   "metadata": {
    "tags": []
   },
   "outputs": [
    {
     "name": "stdout",
     "output_type": "stream",
     "text": [
      "[[1 1 2]\n",
      " [3 5 8]]\n"
     ]
    }
   ],
   "source": [
    "print(a)"
   ]
  },
  {
   "cell_type": "code",
   "execution_count": 6,
   "id": "8a8d7dc1-047a-4b39-972b-2ae54414159d",
   "metadata": {
    "tags": []
   },
   "outputs": [
    {
     "data": {
      "text/plain": [
       "numpy.ndarray"
      ]
     },
     "execution_count": 6,
     "metadata": {},
     "output_type": "execute_result"
    }
   ],
   "source": [
    "# See the type/class of a variable/object by using the `type` function\n",
    "type(a)"
   ]
  },
  {
   "cell_type": "markdown",
   "id": "b106a939-b9c8-4234-8cd0-966d1c843ac2",
   "metadata": {},
   "source": [
    "The numpy.ndarray is the core object/data type of the NumPy package."
   ]
  },
  {
   "cell_type": "code",
   "execution_count": 7,
   "id": "7a6b6761-10a8-4e36-82e2-4091103e4253",
   "metadata": {
    "tags": []
   },
   "outputs": [
    {
     "name": "stdout",
     "output_type": "stream",
     "text": [
      "1\n"
     ]
    },
    {
     "data": {
      "text/plain": [
       "numpy.int64"
      ]
     },
     "execution_count": 7,
     "metadata": {},
     "output_type": "execute_result"
    }
   ],
   "source": [
    "print(a[0, 0])\n",
    "\n",
    "type(a[0, 0])"
   ]
  },
  {
   "cell_type": "markdown",
   "id": "9d7f7f90-d64e-4548-9aed-84f15571df1a",
   "metadata": {},
   "source": [
    "`numpy.int64` is not the standard Python integer type `int`.\n",
    "\n",
    "`numpy.int64` is a special data type in Numpy telling us that 1 is an integer stored as a 64-bit number."
   ]
  },
  {
   "cell_type": "markdown",
   "id": "f261f93c-6e7d-4b06-a8dd-3d68b90bed2d",
   "metadata": {},
   "source": [
    "Check-in: access the value 5 in array `a`."
   ]
  },
  {
   "cell_type": "code",
   "execution_count": 8,
   "id": "3d5f76bd-9c3a-4119-b38e-fa2557603e61",
   "metadata": {
    "tags": []
   },
   "outputs": [
    {
     "data": {
      "text/plain": [
       "5"
      ]
     },
     "execution_count": 8,
     "metadata": {},
     "output_type": "execute_result"
    }
   ],
   "source": [
    "a[1,1]"
   ]
  },
  {
   "cell_type": "markdown",
   "id": "e8dc8a3d-952c-4c06-a134-d762256de55b",
   "metadata": {},
   "source": [
    "## Functions\n",
    "\n",
    "`print` was our first example of a Python **function**\n",
    "\n",
    "Functions take in a set of **arguments**, seperated by commas, and use those arguments to create an **output**.\n",
    "\n",
    "In this course we'll be using argument and parameter interchangeably. But they do have slightly different meanings.\n",
    "\n",
    "We can ask for info about what a function does by executing `?` followed by the function name:"
   ]
  },
  {
   "cell_type": "code",
   "execution_count": 9,
   "id": "ef8d76b1-3d4b-4e58-96e2-868a8aaf78b4",
   "metadata": {
    "tags": []
   },
   "outputs": [
    {
     "data": {
      "text/plain": [
       "\u001b[0;31mDocstring:\u001b[0m\n",
       "print(value, ..., sep=' ', end='\\n', file=sys.stdout, flush=False)\n",
       "\n",
       "Prints the values to a stream, or to sys.stdout by default.\n",
       "Optional keyword arguments:\n",
       "file:  a file-like object (stream); defaults to the current sys.stdout.\n",
       "sep:   string inserted between values, default a space.\n",
       "end:   string appended after the last value, default a newline.\n",
       "flush: whether to forcibly flush the stream.\n",
       "\u001b[0;31mType:\u001b[0m      builtin_function_or_method\n"
      ]
     },
     "metadata": {},
     "output_type": "display_data"
    }
   ],
   "source": [
    "?print"
   ]
  },
  {
   "cell_type": "markdown",
   "id": "1dc70265-0bc6-4c1c-ad46-a53a3bcf50d8",
   "metadata": {},
   "source": [
    "What we obtain is a **docstring**, a special type of comment that is used to document how a fucntion (or a class, or module) works.\n",
    "\n",
    "Notice that there are different types of arguments inside the function's parenthesis.\n",
    "\n",
    "Roughly speaking, a function has two types of arguments:\n",
    "\n",
    "- **non-optional arguments**: arguments *you* have to specify for the function to work\n",
    "\n",
    "- **optional arguments**: arguments that are pre-filled witha default value by the function, but you can override them. Optional arguments appear inside the parenthesis () in the form `optional_argument = default_value`.\n",
    "\n",
    "Example\n",
    "\n",
    "`end` is a parameter in `print` with default value a new line\n",
    "We can pass the value `:-)` to this parameter so that it finishes the line with `:-)` instead:"
   ]
  },
  {
   "cell_type": "code",
   "execution_count": 10,
   "id": "59553545-9fa0-4851-8648-7fb0441d7ac1",
   "metadata": {
    "tags": []
   },
   "outputs": [
    {
     "name": "stdout",
     "output_type": "stream",
     "text": [
      "Change the end parameter:-)"
     ]
    }
   ],
   "source": [
    "print('Change the end parameter', end = ':-)')"
   ]
  },
  {
   "cell_type": "markdown",
   "id": "61737991-8db7-4858-ad54-8f8f06dc227d",
   "metadata": {},
   "source": [
    "## Attributes and Methods\n",
    "\n",
    "An object in Python has attributes and methods.\n",
    "\n",
    "- **attributes**: a property of the object, some piece of information about it.\n",
    "\n",
    "- **method**: a procedure associated with an object, so it is an action where the main ingredient is the object."
   ]
  },
  {
   "cell_type": "markdown",
   "id": "2bfb7534-d58c-421d-9ceb-b0a5a2727d74",
   "metadata": {},
   "source": [
    "Example:\n",
    "\n",
    "NumPy arrays have many methods and attributes. Let’s see some concrete examples."
   ]
  },
  {
   "cell_type": "code",
   "execution_count": 12,
   "id": "be5b3823-5e71-40dc-bb68-f0a56e067009",
   "metadata": {
    "tags": []
   },
   "outputs": [
    {
     "name": "stdout",
     "output_type": "stream",
     "text": [
      "[[1 1 2]\n",
      " [3 5 8]]\n"
     ]
    }
   ],
   "source": [
    "print(a)"
   ]
  },
  {
   "cell_type": "code",
   "execution_count": 13,
   "id": "5a8ed5dd-434d-4d6e-9c23-0241ba15601f",
   "metadata": {
    "tags": []
   },
   "outputs": [
    {
     "name": "stdout",
     "output_type": "stream",
     "text": [
      "[[1 3]\n",
      " [1 5]\n",
      " [2 8]]\n"
     ]
    }
   ],
   "source": [
    "# T is an example of an attribute, it returns the transpose of array \n",
    "print(a.T)"
   ]
  },
  {
   "cell_type": "code",
   "execution_count": 14,
   "id": "3b3e34b5-2b3d-4148-a445-5a8356ac60a4",
   "metadata": {
    "tags": []
   },
   "outputs": [
    {
     "data": {
      "text/plain": [
       "numpy.ndarray"
      ]
     },
     "execution_count": 14,
     "metadata": {},
     "output_type": "execute_result"
    }
   ],
   "source": [
    "type(a.T)"
   ]
  },
  {
   "cell_type": "code",
   "execution_count": 16,
   "id": "f179e6d7-82a6-4bfb-a491-db73261db9a5",
   "metadata": {
    "tags": []
   },
   "outputs": [
    {
     "name": "stdout",
     "output_type": "stream",
     "text": [
      "(2, 3)\n",
      "<class 'tuple'>\n"
     ]
    }
   ],
   "source": [
    "# shape another attribute tells us the shape of the array\n",
    "print(a.shape)\n",
    "print(type(a.shape))"
   ]
  },
  {
   "cell_type": "code",
   "execution_count": 17,
   "id": "894406ab-d924-4d20-927e-08ad4eb9876f",
   "metadata": {
    "tags": []
   },
   "outputs": [
    {
     "name": "stdout",
     "output_type": "stream",
     "text": [
      "dim 2 | type: <class 'int'>\n"
     ]
    }
   ],
   "source": [
    "#ndim is an attribute holding the number of array dimensions\n",
    "print('dim', a.ndim, '| type:', type(a.ndim))"
   ]
  },
  {
   "cell_type": "markdown",
   "id": "52c6b067-8272-4f69-b041-099a440db0a4",
   "metadata": {},
   "source": [
    "Attributes can have many different data types.\n",
    "\n",
    "Some examples of methods."
   ]
  },
  {
   "cell_type": "code",
   "execution_count": 18,
   "id": "019eab6a-829a-42f8-a43c-0b9c452e3981",
   "metadata": {
    "tags": []
   },
   "outputs": [
    {
     "name": "stdout",
     "output_type": "stream",
     "text": [
      "[[1 1 2]\n",
      " [3 5 8]]\n"
     ]
    },
    {
     "data": {
      "text/plain": [
       "array([1, 1, 2])"
      ]
     },
     "execution_count": 18,
     "metadata": {},
     "output_type": "execute_result"
    }
   ],
   "source": [
    "# The min method returns the minimum value in the array along a specified axis\n",
    "print(a)\n",
    "a.min(axis=0)"
   ]
  },
  {
   "cell_type": "code",
   "execution_count": 19,
   "id": "d4f814d8-2d60-4537-9310-075827db0667",
   "metadata": {
    "tags": []
   },
   "outputs": [
    {
     "data": {
      "text/plain": [
       "1"
      ]
     },
     "execution_count": 19,
     "metadata": {},
     "output_type": "execute_result"
    }
   ],
   "source": [
    "# Run min method with axis\n",
    "a.min()"
   ]
  },
  {
   "cell_type": "markdown",
   "id": "d28c6fd9-7bad-4e8b-a047-76c827e14ed0",
   "metadata": {},
   "source": [
    "Remember, methods are functions associated with an object. We can confirm this!"
   ]
  },
  {
   "cell_type": "code",
   "execution_count": 20,
   "id": "3431142b-0d94-4332-8a35-c7c116c94b11",
   "metadata": {
    "tags": []
   },
   "outputs": [
    {
     "data": {
      "text/plain": [
       "[[1, 1, 2], [3, 5, 8]]"
      ]
     },
     "execution_count": 20,
     "metadata": {},
     "output_type": "execute_result"
    }
   ],
   "source": [
    "# method tolist() transform array into a list\n",
    "a.tolist()"
   ]
  },
  {
   "cell_type": "code",
   "execution_count": 21,
   "id": "67cf25a0-bd84-47f8-bba2-99c824a66024",
   "metadata": {
    "tags": []
   },
   "outputs": [
    {
     "data": {
      "text/plain": [
       "list"
      ]
     },
     "execution_count": 21,
     "metadata": {},
     "output_type": "execute_result"
    }
   ],
   "source": [
    "type(a.tolist())"
   ]
  },
  {
   "cell_type": "markdown",
   "id": "42b86c56-61a4-44d8-ad74-56c717d90eaf",
   "metadata": {},
   "source": [
    "# Exercise\n",
    "\n",
    "1. Read the `print` function help. What is the type of the argument **sep**? Is this a default or non-default argument? Why?\n",
    "\n",
    "2. Create two new variables, one with the integer value 77 and another one with the string 99.\n",
    "\n",
    "3. Use your variables to print 77%99%77 by changing the value of one of the default arguments in `print`."
   ]
  },
  {
   "cell_type": "code",
   "execution_count": 22,
   "id": "e60b1969-76c2-496a-89da-d2b8f5e8e0e8",
   "metadata": {
    "tags": []
   },
   "outputs": [
    {
     "data": {
      "text/plain": [
       "\u001b[0;31mDocstring:\u001b[0m\n",
       "print(value, ..., sep=' ', end='\\n', file=sys.stdout, flush=False)\n",
       "\n",
       "Prints the values to a stream, or to sys.stdout by default.\n",
       "Optional keyword arguments:\n",
       "file:  a file-like object (stream); defaults to the current sys.stdout.\n",
       "sep:   string inserted between values, default a space.\n",
       "end:   string appended after the last value, default a newline.\n",
       "flush: whether to forcibly flush the stream.\n",
       "\u001b[0;31mType:\u001b[0m      builtin_function_or_method\n"
      ]
     },
     "metadata": {},
     "output_type": "display_data"
    }
   ],
   "source": [
    "?print\n",
    "# sep:   string inserted between values, default a space.\n",
    "# sep is an optional method that has a default of adding a space"
   ]
  },
  {
   "cell_type": "code",
   "execution_count": 23,
   "id": "75bd4438-681c-44fc-a82c-297aea194824",
   "metadata": {
    "tags": []
   },
   "outputs": [],
   "source": [
    "int_value = 77\n",
    "string_value = '99'"
   ]
  },
  {
   "cell_type": "code",
   "execution_count": 25,
   "id": "2c209a17-a1b9-4ab2-9e16-20bd4e53981d",
   "metadata": {
    "tags": []
   },
   "outputs": [
    {
     "name": "stdout",
     "output_type": "stream",
     "text": [
      "77%99%77\n"
     ]
    }
   ],
   "source": [
    "print(int_value, string_value, int_value, sep = '%')"
   ]
  },
  {
   "cell_type": "code",
   "execution_count": null,
   "id": "b3493fb4-5d3c-46a9-a9d7-e92879322c11",
   "metadata": {},
   "outputs": [],
   "source": []
  }
 ],
 "metadata": {
  "kernelspec": {
   "display_name": "Anaconda 3 (Base)",
   "language": "python",
   "name": "base"
  },
  "language_info": {
   "codemirror_mode": {
    "name": "ipython",
    "version": 3
   },
   "file_extension": ".py",
   "mimetype": "text/x-python",
   "name": "python",
   "nbconvert_exporter": "python",
   "pygments_lexer": "ipython3",
   "version": "3.9.13"
  }
 },
 "nbformat": 4,
 "nbformat_minor": 5
}

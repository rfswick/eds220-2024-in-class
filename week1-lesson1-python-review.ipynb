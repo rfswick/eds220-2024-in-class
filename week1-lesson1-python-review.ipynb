{
 "cells": [
  {
   "cell_type": "markdown",
   "id": "11699531-5795-4867-859e-6e4bfc8ee801",
   "metadata": {},
   "source": [
    "# Python Review\n",
    "\n",
    "Short review about some core concepts in Python exemplified by objects in the Numpy library.\n",
    "\n",
    "Goals:\n",
    "- recall basic Python vocabulary\n",
    "- practice markdown syntax\n",
    "\n",
    "## Libraries and Packages\n",
    "\n",
    "**library:** is a collection of code that we can use to perform specific tasks in our programs. It can be a single file or multiple files.\n",
    "\n",
    "**NumPy:**\n",
    "\n",
    "- core library for numerical computation in Python\n",
    "- many libraries use NumPy arrays as their building blicks\n",
    "- computations on NumPy objects are optimized for speed and memory usage\n",
    "\n",
    "Let's import NumPy with its **standard abbreviation** `np`:"
   ]
  },
  {
   "cell_type": "code",
   "execution_count": 1,
   "id": "86d4c39c-468a-486c-b7f9-b963c86b8d1c",
   "metadata": {
    "tags": []
   },
   "outputs": [],
   "source": [
    "import numpy as np"
   ]
  },
  {
   "cell_type": "markdown",
   "id": "5a73d3ad-0465-465c-b5bd-d2e8fff8aee6",
   "metadata": {},
   "source": [
    "(esc + press M twice -> convert code cell to markdown cell)\n",
    "\n",
    "## Variables\n",
    "\n",
    "**variable:** a name we assign to a particular object in Python\n",
    "\n",
    "Example:"
   ]
  },
  {
   "cell_type": "code",
   "execution_count": 4,
   "id": "16ac8a39-f11f-4ace-822c-110ae36c1dd1",
   "metadata": {
    "tags": []
   },
   "outputs": [],
   "source": [
    "# Assign a small array to variable a \n",
    "a = np.array( [ [1,1,2], [3,5,8] ] )"
   ]
  },
  {
   "cell_type": "markdown",
   "id": "af875324-f730-47dd-8df4-ee93bd70edb6",
   "metadata": {},
   "source": [
    "To view a variable's value from our Jupyter notebook:"
   ]
  },
  {
   "cell_type": "code",
   "execution_count": 5,
   "id": "73d39349-f14b-44fb-ad53-dd0b0b8fa2b4",
   "metadata": {
    "tags": []
   },
   "outputs": [
    {
     "data": {
      "text/plain": [
       "array([[1, 1, 2],\n",
       "       [3, 5, 8]])"
      ]
     },
     "execution_count": 5,
     "metadata": {},
     "output_type": "execute_result"
    }
   ],
   "source": [
    "# Run cell with variable name to show value\n",
    "a"
   ]
  },
  {
   "cell_type": "code",
   "execution_count": 6,
   "id": "ca58830f-02dd-4072-ae9c-6bdc40bda172",
   "metadata": {
    "tags": []
   },
   "outputs": [
    {
     "name": "stdout",
     "output_type": "stream",
     "text": [
      "[[1 1 2]\n",
      " [3 5 8]]\n"
     ]
    }
   ],
   "source": [
    "# Use `print` function to print the value\n",
    "print(a)"
   ]
  },
  {
   "cell_type": "code",
   "execution_count": null,
   "id": "3480a3d1-0e99-4466-9a65-a9310d82e0d9",
   "metadata": {},
   "outputs": [],
   "source": []
  }
 ],
 "metadata": {
  "kernelspec": {
   "display_name": "Anaconda 3 (Base)",
   "language": "python",
   "name": "base"
  },
  "language_info": {
   "codemirror_mode": {
    "name": "ipython",
    "version": 3
   },
   "file_extension": ".py",
   "mimetype": "text/x-python",
   "name": "python",
   "nbconvert_exporter": "python",
   "pygments_lexer": "ipython3",
   "version": "3.9.13"
  }
 },
 "nbformat": 4,
 "nbformat_minor": 5
}

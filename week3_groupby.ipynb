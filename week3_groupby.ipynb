{
 "cells": [
  {
   "cell_type": "markdown",
   "id": "989b06c3-8f9c-4f2e-aae9-fc43745ed25e",
   "metadata": {},
   "source": [
    "# Grouping\n",
    "\n",
    "In this section we will go over the split-apply-combine strategy and the `groupby()` function."
   ]
  },
  {
   "cell_type": "markdown",
   "id": "674e1e41-9378-4d3a-9596-3970dd5b8661",
   "metadata": {},
   "source": [
    "## Learning Objectives\n",
    "\n",
    "By the end of this lesson students will be able to:\n",
    "\n",
    "- Understand and apply the Split-Apply-Combine strategy to analyze grouped data\n",
    "- Use `groupby()` to split a `pandas.DataFrame` by one or more columns\n",
    "- Calculate summary statistics for groups in a `pandas.DataFrame`\n",
    "- Use method chaining for efficient data analysis\n",
    "\n",
    "## About the Data\n",
    "\n",
    "For this section we will use the Palmer Penguins dataset developed by Drs.Allison Horst, Alison Hill and Kristen Gorman. This dataset contains size measurements for three penguin species in the Palmer Archipelago, Antarctica during 2007, 2008, and 2009.\n",
    "\n",
    "The dataset has 344 rows and 8 columns. Let's start by loading the data:"
   ]
  },
  {
   "cell_type": "code",
   "execution_count": 2,
   "id": "4d66e99a-0bac-4e74-a99b-98d77a98db60",
   "metadata": {
    "tags": []
   },
   "outputs": [
    {
     "data": {
      "text/html": [
       "<div>\n",
       "<style scoped>\n",
       "    .dataframe tbody tr th:only-of-type {\n",
       "        vertical-align: middle;\n",
       "    }\n",
       "\n",
       "    .dataframe tbody tr th {\n",
       "        vertical-align: top;\n",
       "    }\n",
       "\n",
       "    .dataframe thead th {\n",
       "        text-align: right;\n",
       "    }\n",
       "</style>\n",
       "<table border=\"1\" class=\"dataframe\">\n",
       "  <thead>\n",
       "    <tr style=\"text-align: right;\">\n",
       "      <th></th>\n",
       "      <th>species</th>\n",
       "      <th>island</th>\n",
       "      <th>bill_length_mm</th>\n",
       "      <th>bill_depth_mm</th>\n",
       "      <th>flipper_length_mm</th>\n",
       "      <th>body_mass_g</th>\n",
       "      <th>sex</th>\n",
       "      <th>year</th>\n",
       "    </tr>\n",
       "  </thead>\n",
       "  <tbody>\n",
       "    <tr>\n",
       "      <th>0</th>\n",
       "      <td>Adelie</td>\n",
       "      <td>Torgersen</td>\n",
       "      <td>39.1</td>\n",
       "      <td>18.7</td>\n",
       "      <td>181.0</td>\n",
       "      <td>3750.0</td>\n",
       "      <td>male</td>\n",
       "      <td>2007</td>\n",
       "    </tr>\n",
       "    <tr>\n",
       "      <th>1</th>\n",
       "      <td>Adelie</td>\n",
       "      <td>Torgersen</td>\n",
       "      <td>39.5</td>\n",
       "      <td>17.4</td>\n",
       "      <td>186.0</td>\n",
       "      <td>3800.0</td>\n",
       "      <td>female</td>\n",
       "      <td>2007</td>\n",
       "    </tr>\n",
       "    <tr>\n",
       "      <th>2</th>\n",
       "      <td>Adelie</td>\n",
       "      <td>Torgersen</td>\n",
       "      <td>40.3</td>\n",
       "      <td>18.0</td>\n",
       "      <td>195.0</td>\n",
       "      <td>3250.0</td>\n",
       "      <td>female</td>\n",
       "      <td>2007</td>\n",
       "    </tr>\n",
       "    <tr>\n",
       "      <th>3</th>\n",
       "      <td>Adelie</td>\n",
       "      <td>Torgersen</td>\n",
       "      <td>NaN</td>\n",
       "      <td>NaN</td>\n",
       "      <td>NaN</td>\n",
       "      <td>NaN</td>\n",
       "      <td>NaN</td>\n",
       "      <td>2007</td>\n",
       "    </tr>\n",
       "    <tr>\n",
       "      <th>4</th>\n",
       "      <td>Adelie</td>\n",
       "      <td>Torgersen</td>\n",
       "      <td>36.7</td>\n",
       "      <td>19.3</td>\n",
       "      <td>193.0</td>\n",
       "      <td>3450.0</td>\n",
       "      <td>female</td>\n",
       "      <td>2007</td>\n",
       "    </tr>\n",
       "  </tbody>\n",
       "</table>\n",
       "</div>"
      ],
      "text/plain": [
       "  species     island  bill_length_mm  bill_depth_mm  flipper_length_mm  \\\n",
       "0  Adelie  Torgersen            39.1           18.7              181.0   \n",
       "1  Adelie  Torgersen            39.5           17.4              186.0   \n",
       "2  Adelie  Torgersen            40.3           18.0              195.0   \n",
       "3  Adelie  Torgersen             NaN            NaN                NaN   \n",
       "4  Adelie  Torgersen            36.7           19.3              193.0   \n",
       "\n",
       "   body_mass_g     sex  year  \n",
       "0       3750.0    male  2007  \n",
       "1       3800.0  female  2007  \n",
       "2       3250.0  female  2007  \n",
       "3          NaN     NaN  2007  \n",
       "4       3450.0  female  2007  "
      ]
     },
     "execution_count": 2,
     "metadata": {},
     "output_type": "execute_result"
    }
   ],
   "source": [
    "import numpy as np\n",
    "import pandas as pd\n",
    "\n",
    "# Load Palmer penguins data\n",
    "URL = 'https://raw.githubusercontent.com/allisonhorst/palmerpenguins/main/inst/extdata/penguins.csv'\n",
    "penguins = pd.read_csv(URL)\n",
    "\n",
    "penguins.head()"
   ]
  },
  {
   "cell_type": "markdown",
   "id": "5524f35d-511c-46a1-9586-86be6eadbea3",
   "metadata": {},
   "source": [
    "## Summary Statistics\n",
    "\n",
    "It is easy to get summary stastics for each column in a `pandas.DataFrame` by using methods such as\n",
    "\n",
    "- `sum()`: sum values in each column\n",
    "- `count()`: count non-NA values in each column\n",
    "- `min()` and `max()`: get the minimum and maximum value in each column\n",
    "- `mean()` and `median()`: get the mean and median value in each column\n",
    "- `std()` and `var()`: get the standard deviation and variance in each column\n",
    "\n",
    "## Example"
   ]
  },
  {
   "cell_type": "code",
   "execution_count": 2,
   "id": "b8b15ee3-00a5-402b-9b8d-5354fd28ac15",
   "metadata": {
    "tags": []
   },
   "outputs": [
    {
     "data": {
      "text/plain": [
       "species              344\n",
       "island               344\n",
       "bill_length_mm       342\n",
       "bill_depth_mm        342\n",
       "flipper_length_mm    342\n",
       "body_mass_g          342\n",
       "sex                  333\n",
       "year                 344\n",
       "dtype: int64"
      ]
     },
     "execution_count": 2,
     "metadata": {},
     "output_type": "execute_result"
    }
   ],
   "source": [
    "# Get the number of non-NA values in each column \n",
    "penguins.count()"
   ]
  },
  {
   "cell_type": "code",
   "execution_count": 3,
   "id": "51d7ce82-0400-450e-8bb5-f301daf76d7b",
   "metadata": {
    "tags": []
   },
   "outputs": [
    {
     "data": {
      "text/plain": [
       "bill_length_mm         32.1\n",
       "bill_depth_mm          13.1\n",
       "flipper_length_mm     172.0\n",
       "body_mass_g          2700.0\n",
       "year                 2007.0\n",
       "dtype: float64"
      ]
     },
     "execution_count": 3,
     "metadata": {},
     "output_type": "execute_result"
    }
   ],
   "source": [
    "# Get minimum value in each column with numerical values\n",
    "penguins.select_dtypes('number').min()"
   ]
  },
  {
   "cell_type": "markdown",
   "id": "9ed71854-3a53-4241-84fc-eb46f275cf84",
   "metadata": {},
   "source": [
    "## Grouping\n",
    "\n",
    "Our penguins data is naturally split into different groups: there are three different species, two sexes, and three islands. Often, we want to calculate a certain statistic for each group. For example, suppose we want to calculate the average flipper length per species. How would we do this “by hand”?\n",
    "\n",
    "0. We start with our data and notice there are multiple `species` in the species column.\n",
    "\n",
    "1. We split our original table to group all observations from the same species together.\n",
    "\n",
    "2. We calculate the average flipper length for each of the groups we formed.\n",
    "\n",
    "3. Then we combine the values for average flipper length per species into a single table.\n",
    "\n",
    "This is known as the **Split-Apply-Combine strategy**. This strategy follows the three steps we explained above:\n",
    "\n",
    "1. **Split**: Split the data into logical groups (e.g. species, sex, island, etc.)\n",
    "\n",
    "2. **Apply**: Calculate some summary statistic on each group (e.g. average flipper length by species, number of individuals per island, body mass by sex, etc.)\n",
    "\n",
    "3. **Combine**: Combine the statistic calculated on each group back together.\n",
    "\n",
    "For a `pandas.DataFrame` or `pandas.Series`, we can use the `groupby()` method to split (i.e. group) the data into different categories.\n",
    "\n",
    "The general syntax for `groupby()` is:\n",
    "```python\n",
    "df.groupby(columns_to_group_by).summary_method()\n",
    "```\n",
    "\n",
    "Most often, we will have that `columns_to_group_by` will be a single column name (a string) or a list of column names. The unique values of the column (or columns) will be used as the groups of the data frame.\n",
    "\n",
    "### Example\n",
    "\n",
    "If we don’t use `groupby()` and directly apply the `mean()` method to our flipper length column, we obtain the average of all the values in the column:"
   ]
  },
  {
   "cell_type": "code",
   "execution_count": 3,
   "id": "977e6fbf-b8f3-4166-af88-e513edf4020a",
   "metadata": {
    "tags": []
   },
   "outputs": [
    {
     "data": {
      "text/plain": [
       "200.91520467836258"
      ]
     },
     "execution_count": 3,
     "metadata": {},
     "output_type": "execute_result"
    }
   ],
   "source": [
    "penguins['flipper_length_mm'].mean()"
   ]
  },
  {
   "cell_type": "markdown",
   "id": "eff2f7a7-2b00-4f3b-bce9-e3a0eb9ac632",
   "metadata": {},
   "source": [
    "To get the mean flipper length by species we first group our dataset by the species column’s values. However, if we just use the `groupby()` method without specifying what we wish to calculate on each group, not much happens up front:"
   ]
  },
  {
   "cell_type": "code",
   "execution_count": 4,
   "id": "ec1d5408-7ef9-49ae-823b-8987818934a1",
   "metadata": {
    "tags": []
   },
   "outputs": [
    {
     "data": {
      "text/plain": [
       "<pandas.core.groupby.generic.SeriesGroupBy object at 0x7f153c2fc7f0>"
      ]
     },
     "execution_count": 4,
     "metadata": {},
     "output_type": "execute_result"
    }
   ],
   "source": [
    "penguins.groupby('species')['flipper_length_mm']"
   ]
  },
  {
   "cell_type": "markdown",
   "id": "2d7a1c8a-56b6-4026-95df-453a738bbe01",
   "metadata": {},
   "source": [
    "We get a `GroupBy` object, which is like an intermediate step. It doesn’t perform the actual calculations until we specify an operation:"
   ]
  },
  {
   "cell_type": "code",
   "execution_count": 5,
   "id": "adb9f275-44f1-430c-b187-3731603d49a6",
   "metadata": {
    "tags": []
   },
   "outputs": [
    {
     "data": {
      "text/plain": [
       "species\n",
       "Adelie       189.953642\n",
       "Chinstrap    195.823529\n",
       "Gentoo       217.186992\n",
       "Name: flipper_length_mm, dtype: float64"
      ]
     },
     "execution_count": 5,
     "metadata": {},
     "output_type": "execute_result"
    }
   ],
   "source": [
    "# Average flipper length per species\n",
    "penguins.groupby('species')['flipper_length_mm'].mean()"
   ]
  },
  {
   "cell_type": "markdown",
   "id": "c400cab6-7af9-4700-bbc3-324b8d842a37",
   "metadata": {},
   "source": [
    "Let’s recap what went on in that line (remember the . can be read as “and then…”):\n",
    "\n",
    "- start with the `penguins` data frame, and then…\n",
    "\n",
    "- use `groupby()` to group the data frame by species values, and then…\n",
    "\n",
    "- select the `'flipper_length_mm'` column, and then…\n",
    "\n",
    "- calculate the `mean()` of this column with respect to the groups.\n",
    "\n",
    "Notice that the name of the series is the same as the column on which we calculated the summary statistc. We can easily update this using the `rename()` method:"
   ]
  },
  {
   "cell_type": "code",
   "execution_count": 6,
   "id": "857ec3a4-b363-444a-b8c0-75f63381eab3",
   "metadata": {
    "tags": []
   },
   "outputs": [
    {
     "data": {
      "text/plain": [
       "species\n",
       "Gentoo       217.186992\n",
       "Chinstrap    195.823529\n",
       "Adelie       189.953642\n",
       "Name: mean_flipper_length, dtype: float64"
      ]
     },
     "execution_count": 6,
     "metadata": {},
     "output_type": "execute_result"
    }
   ],
   "source": [
    "# Average flipper length per species\n",
    "avg_flipper = (penguins.groupby(\"species\")\n",
    "                        .flipper_length_mm\n",
    "                        .mean()\n",
    "                        .rename('mean_flipper_length')\n",
    "                        .sort_values(ascending=False)\n",
    "                        )\n",
    "avg_flipper"
   ]
  },
  {
   "cell_type": "markdown",
   "id": "a31a5051-76f7-4615-89aa-c64f8a5160a4",
   "metadata": {},
   "source": [
    "We can also group by combinations of columns.\n",
    "\n",
    "### Example\n",
    "\n",
    "We want to know what was the number of penguins surveyed in each island on different years. We can use the `count()` method to count the number of non-NA values in each column like this:"
   ]
  },
  {
   "cell_type": "code",
   "execution_count": 7,
   "id": "1473b5d0-fa01-4c32-9c6e-57211e3d2d35",
   "metadata": {
    "tags": []
   },
   "outputs": [
    {
     "data": {
      "text/plain": [
       "species              344\n",
       "island               344\n",
       "bill_length_mm       342\n",
       "bill_depth_mm        342\n",
       "flipper_length_mm    342\n",
       "body_mass_g          342\n",
       "sex                  333\n",
       "year                 344\n",
       "dtype: int64"
      ]
     },
     "execution_count": 7,
     "metadata": {},
     "output_type": "execute_result"
    }
   ],
   "source": [
    "penguins.count()"
   ]
  },
  {
   "cell_type": "markdown",
   "id": "771db772-a0d3-468d-8613-b2871896941c",
   "metadata": {},
   "source": [
    "When we group by island and year we get the count of non-NA values for each column across each combination of island and year:"
   ]
  },
  {
   "cell_type": "code",
   "execution_count": 8,
   "id": "616989b9-f3a6-454c-8b28-0cdc60e346cb",
   "metadata": {
    "tags": []
   },
   "outputs": [
    {
     "data": {
      "text/html": [
       "<div>\n",
       "<style scoped>\n",
       "    .dataframe tbody tr th:only-of-type {\n",
       "        vertical-align: middle;\n",
       "    }\n",
       "\n",
       "    .dataframe tbody tr th {\n",
       "        vertical-align: top;\n",
       "    }\n",
       "\n",
       "    .dataframe thead th {\n",
       "        text-align: right;\n",
       "    }\n",
       "</style>\n",
       "<table border=\"1\" class=\"dataframe\">\n",
       "  <thead>\n",
       "    <tr style=\"text-align: right;\">\n",
       "      <th></th>\n",
       "      <th></th>\n",
       "      <th>species</th>\n",
       "      <th>bill_length_mm</th>\n",
       "      <th>bill_depth_mm</th>\n",
       "      <th>flipper_length_mm</th>\n",
       "      <th>body_mass_g</th>\n",
       "      <th>sex</th>\n",
       "    </tr>\n",
       "    <tr>\n",
       "      <th>island</th>\n",
       "      <th>year</th>\n",
       "      <th></th>\n",
       "      <th></th>\n",
       "      <th></th>\n",
       "      <th></th>\n",
       "      <th></th>\n",
       "      <th></th>\n",
       "    </tr>\n",
       "  </thead>\n",
       "  <tbody>\n",
       "    <tr>\n",
       "      <th rowspan=\"3\" valign=\"top\">Biscoe</th>\n",
       "      <th>2007</th>\n",
       "      <td>44</td>\n",
       "      <td>44</td>\n",
       "      <td>44</td>\n",
       "      <td>44</td>\n",
       "      <td>44</td>\n",
       "      <td>43</td>\n",
       "    </tr>\n",
       "    <tr>\n",
       "      <th>2008</th>\n",
       "      <td>64</td>\n",
       "      <td>64</td>\n",
       "      <td>64</td>\n",
       "      <td>64</td>\n",
       "      <td>64</td>\n",
       "      <td>63</td>\n",
       "    </tr>\n",
       "    <tr>\n",
       "      <th>2009</th>\n",
       "      <td>60</td>\n",
       "      <td>59</td>\n",
       "      <td>59</td>\n",
       "      <td>59</td>\n",
       "      <td>59</td>\n",
       "      <td>57</td>\n",
       "    </tr>\n",
       "    <tr>\n",
       "      <th rowspan=\"3\" valign=\"top\">Dream</th>\n",
       "      <th>2007</th>\n",
       "      <td>46</td>\n",
       "      <td>46</td>\n",
       "      <td>46</td>\n",
       "      <td>46</td>\n",
       "      <td>46</td>\n",
       "      <td>45</td>\n",
       "    </tr>\n",
       "    <tr>\n",
       "      <th>2008</th>\n",
       "      <td>34</td>\n",
       "      <td>34</td>\n",
       "      <td>34</td>\n",
       "      <td>34</td>\n",
       "      <td>34</td>\n",
       "      <td>34</td>\n",
       "    </tr>\n",
       "    <tr>\n",
       "      <th>2009</th>\n",
       "      <td>44</td>\n",
       "      <td>44</td>\n",
       "      <td>44</td>\n",
       "      <td>44</td>\n",
       "      <td>44</td>\n",
       "      <td>44</td>\n",
       "    </tr>\n",
       "    <tr>\n",
       "      <th rowspan=\"3\" valign=\"top\">Torgersen</th>\n",
       "      <th>2007</th>\n",
       "      <td>20</td>\n",
       "      <td>19</td>\n",
       "      <td>19</td>\n",
       "      <td>19</td>\n",
       "      <td>19</td>\n",
       "      <td>15</td>\n",
       "    </tr>\n",
       "    <tr>\n",
       "      <th>2008</th>\n",
       "      <td>16</td>\n",
       "      <td>16</td>\n",
       "      <td>16</td>\n",
       "      <td>16</td>\n",
       "      <td>16</td>\n",
       "      <td>16</td>\n",
       "    </tr>\n",
       "    <tr>\n",
       "      <th>2009</th>\n",
       "      <td>16</td>\n",
       "      <td>16</td>\n",
       "      <td>16</td>\n",
       "      <td>16</td>\n",
       "      <td>16</td>\n",
       "      <td>16</td>\n",
       "    </tr>\n",
       "  </tbody>\n",
       "</table>\n",
       "</div>"
      ],
      "text/plain": [
       "                species  bill_length_mm  bill_depth_mm  flipper_length_mm  \\\n",
       "island    year                                                              \n",
       "Biscoe    2007       44              44             44                 44   \n",
       "          2008       64              64             64                 64   \n",
       "          2009       60              59             59                 59   \n",
       "Dream     2007       46              46             46                 46   \n",
       "          2008       34              34             34                 34   \n",
       "          2009       44              44             44                 44   \n",
       "Torgersen 2007       20              19             19                 19   \n",
       "          2008       16              16             16                 16   \n",
       "          2009       16              16             16                 16   \n",
       "\n",
       "                body_mass_g  sex  \n",
       "island    year                    \n",
       "Biscoe    2007           44   43  \n",
       "          2008           64   63  \n",
       "          2009           59   57  \n",
       "Dream     2007           46   45  \n",
       "          2008           34   34  \n",
       "          2009           44   44  \n",
       "Torgersen 2007           19   15  \n",
       "          2008           16   16  \n",
       "          2009           16   16  "
      ]
     },
     "execution_count": 8,
     "metadata": {},
     "output_type": "execute_result"
    }
   ],
   "source": [
    "penguins.groupby(['island','year']).count()"
   ]
  },
  {
   "cell_type": "markdown",
   "id": "9a25f4c2-d217-4326-b1a1-f496b59b5995",
   "metadata": {},
   "source": [
    "Let’s say we want to plot the surveyed population per year and island. We could then use method chaining to do this:"
   ]
  },
  {
   "cell_type": "code",
   "execution_count": 9,
   "id": "fab982d0-9d30-4edb-a26a-3e60a1814a96",
   "metadata": {
    "tags": []
   },
   "outputs": [
    {
     "data": {
      "text/plain": [
       "<AxesSubplot:title={'center':'Penguins surveyed at the Palmer Archipelago'}, ylabel='island,year'>"
      ]
     },
     "execution_count": 9,
     "metadata": {},
     "output_type": "execute_result"
    },
    {
     "data": {
      "image/png": "[encoded data removed]",
      "text/plain": [
       "<Figure size 640x480 with 1 Axes>"
      ]
     },
     "metadata": {},
     "output_type": "display_data"
    }
   ],
   "source": [
    "(penguins.groupby(['island','year'])\n",
    "         .count()\n",
    "         .species\n",
    "         .sort_values()\n",
    "         .plot(kind='barh',\n",
    "                title='Penguins surveyed at the Palmer Archipelago',\n",
    "                ylabel=('Island, Year'))\n",
    "         )"
   ]
  },
  {
   "cell_type": "markdown",
   "id": "9ce02ca6-cb55-4541-b895-35cfd4b72bc7",
   "metadata": {},
   "source": [
    "### Check-in\n",
    "\n",
    "1. Use the `max()` method for `pands.DataFrames` to calculate the maximum value of a penguin’s body mass by year and species."
   ]
  },
  {
   "cell_type": "code",
   "execution_count": 11,
   "id": "530cd60d-dd79-4452-945c-0e762328a418",
   "metadata": {
    "tags": []
   },
   "outputs": [
    {
     "name": "stderr",
     "output_type": "stream",
     "text": [
      "/tmp/ipykernel_1704528/3404309005.py:2: FutureWarning: Dropping invalid columns in DataFrameGroupBy.max is deprecated. In a future version, a TypeError will be raised. Before calling .max, select only columns which should be valid for the function.\n",
      "  penguin_max = penguins.groupby(['year','species']).max()\n"
     ]
    },
    {
     "data": {
      "text/html": [
       "<div>\n",
       "<style scoped>\n",
       "    .dataframe tbody tr th:only-of-type {\n",
       "        vertical-align: middle;\n",
       "    }\n",
       "\n",
       "    .dataframe tbody tr th {\n",
       "        vertical-align: top;\n",
       "    }\n",
       "\n",
       "    .dataframe thead th {\n",
       "        text-align: right;\n",
       "    }\n",
       "</style>\n",
       "<table border=\"1\" class=\"dataframe\">\n",
       "  <thead>\n",
       "    <tr style=\"text-align: right;\">\n",
       "      <th></th>\n",
       "      <th></th>\n",
       "      <th>island</th>\n",
       "      <th>bill_length_mm</th>\n",
       "      <th>bill_depth_mm</th>\n",
       "      <th>flipper_length_mm</th>\n",
       "      <th>body_mass_g</th>\n",
       "    </tr>\n",
       "    <tr>\n",
       "      <th>year</th>\n",
       "      <th>species</th>\n",
       "      <th></th>\n",
       "      <th></th>\n",
       "      <th></th>\n",
       "      <th></th>\n",
       "      <th></th>\n",
       "    </tr>\n",
       "  </thead>\n",
       "  <tbody>\n",
       "    <tr>\n",
       "      <th rowspan=\"3\" valign=\"top\">2007</th>\n",
       "      <th>Adelie</th>\n",
       "      <td>Torgersen</td>\n",
       "      <td>46.0</td>\n",
       "      <td>21.5</td>\n",
       "      <td>198.0</td>\n",
       "      <td>4675.0</td>\n",
       "    </tr>\n",
       "    <tr>\n",
       "      <th>Chinstrap</th>\n",
       "      <td>Dream</td>\n",
       "      <td>58.0</td>\n",
       "      <td>20.3</td>\n",
       "      <td>201.0</td>\n",
       "      <td>4400.0</td>\n",
       "    </tr>\n",
       "    <tr>\n",
       "      <th>Gentoo</th>\n",
       "      <td>Biscoe</td>\n",
       "      <td>59.6</td>\n",
       "      <td>17.0</td>\n",
       "      <td>230.0</td>\n",
       "      <td>6300.0</td>\n",
       "    </tr>\n",
       "    <tr>\n",
       "      <th rowspan=\"3\" valign=\"top\">2008</th>\n",
       "      <th>Adelie</th>\n",
       "      <td>Torgersen</td>\n",
       "      <td>45.8</td>\n",
       "      <td>21.1</td>\n",
       "      <td>208.0</td>\n",
       "      <td>4700.0</td>\n",
       "    </tr>\n",
       "    <tr>\n",
       "      <th>Chinstrap</th>\n",
       "      <td>Dream</td>\n",
       "      <td>54.2</td>\n",
       "      <td>20.8</td>\n",
       "      <td>210.0</td>\n",
       "      <td>4800.0</td>\n",
       "    </tr>\n",
       "    <tr>\n",
       "      <th>Gentoo</th>\n",
       "      <td>Biscoe</td>\n",
       "      <td>54.3</td>\n",
       "      <td>17.3</td>\n",
       "      <td>231.0</td>\n",
       "      <td>6000.0</td>\n",
       "    </tr>\n",
       "    <tr>\n",
       "      <th rowspan=\"3\" valign=\"top\">2009</th>\n",
       "      <th>Adelie</th>\n",
       "      <td>Torgersen</td>\n",
       "      <td>45.6</td>\n",
       "      <td>20.7</td>\n",
       "      <td>210.0</td>\n",
       "      <td>4775.0</td>\n",
       "    </tr>\n",
       "    <tr>\n",
       "      <th>Chinstrap</th>\n",
       "      <td>Dream</td>\n",
       "      <td>55.8</td>\n",
       "      <td>19.9</td>\n",
       "      <td>212.0</td>\n",
       "      <td>4450.0</td>\n",
       "    </tr>\n",
       "    <tr>\n",
       "      <th>Gentoo</th>\n",
       "      <td>Biscoe</td>\n",
       "      <td>55.9</td>\n",
       "      <td>17.3</td>\n",
       "      <td>230.0</td>\n",
       "      <td>6000.0</td>\n",
       "    </tr>\n",
       "  </tbody>\n",
       "</table>\n",
       "</div>"
      ],
      "text/plain": [
       "                   island  bill_length_mm  bill_depth_mm  flipper_length_mm  \\\n",
       "year species                                                                  \n",
       "2007 Adelie     Torgersen            46.0           21.5              198.0   \n",
       "     Chinstrap      Dream            58.0           20.3              201.0   \n",
       "     Gentoo        Biscoe            59.6           17.0              230.0   \n",
       "2008 Adelie     Torgersen            45.8           21.1              208.0   \n",
       "     Chinstrap      Dream            54.2           20.8              210.0   \n",
       "     Gentoo        Biscoe            54.3           17.3              231.0   \n",
       "2009 Adelie     Torgersen            45.6           20.7              210.0   \n",
       "     Chinstrap      Dream            55.8           19.9              212.0   \n",
       "     Gentoo        Biscoe            55.9           17.3              230.0   \n",
       "\n",
       "                body_mass_g  \n",
       "year species                 \n",
       "2007 Adelie          4675.0  \n",
       "     Chinstrap       4400.0  \n",
       "     Gentoo          6300.0  \n",
       "2008 Adelie          4700.0  \n",
       "     Chinstrap       4800.0  \n",
       "     Gentoo          6000.0  \n",
       "2009 Adelie          4775.0  \n",
       "     Chinstrap       4450.0  \n",
       "     Gentoo          6000.0  "
      ]
     },
     "execution_count": 11,
     "metadata": {},
     "output_type": "execute_result"
    }
   ],
   "source": [
    "# Calculate maximum penguin body mass by year and species\n",
    "penguin_max = penguins.groupby(['year','species']).max()\n",
    "\n",
    "penguin_max"
   ]
  },
  {
   "cell_type": "markdown",
   "id": "2856db88-5642-4bdf-be27-10b32e95dd01",
   "metadata": {},
   "source": [
    "2. Use (1) to display the highest body masses per year and species as a bar plot in descending order."
   ]
  },
  {
   "cell_type": "code",
   "execution_count": 13,
   "id": "d9a4dd28-2826-4e79-a721-ab34678d2171",
   "metadata": {
    "tags": []
   },
   "outputs": [
    {
     "data": {
      "text/plain": [
       "<AxesSubplot:title={'center':'Penguins surveyed at the Palmer Archipelago'}, ylabel='year,species'>"
      ]
     },
     "execution_count": 13,
     "metadata": {},
     "output_type": "execute_result"
    },
    {
     "data": {
      "image/png": "[encoded data removed]",
      "text/plain": [
       "<Figure size 640x480 with 1 Axes>"
      ]
     },
     "metadata": {},
     "output_type": "display_data"
    }
   ],
   "source": [
    "(penguin_max.body_mass_g\n",
    "            .sort_values()\n",
    "            .plot(kind='barh',\n",
    "                title='Penguins surveyed at the Palmer Archipelago',\n",
    "                ylabel=('Island, Year'))\n",
    "         )"
   ]
  }
 ],
 "metadata": {
  "kernelspec": {
   "display_name": "Anaconda 3 (Base)",
   "language": "python",
   "name": "base"
  },
  "language_info": {
   "codemirror_mode": {
    "name": "ipython",
    "version": 3
   },
   "file_extension": ".py",
   "mimetype": "text/x-python",
   "name": "python",
   "nbconvert_exporter": "python",
   "pygments_lexer": "ipython3",
   "version": "3.9.13"
  }
 },
 "nbformat": 4,
 "nbformat_minor": 5
}
